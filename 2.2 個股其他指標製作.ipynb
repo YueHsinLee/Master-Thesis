{
 "cells": [
  {
   "cell_type": "code",
   "execution_count": 1,
   "id": "a7af875c-b23c-449e-8022-96a105cd5091",
   "metadata": {
    "tags": []
   },
   "outputs": [],
   "source": [
    "import pandas as pd\n",
    "import numpy as np\n",
    "import matplotlib.pyplot as plt"
   ]
  },
  {
   "cell_type": "code",
   "execution_count": 2,
   "id": "0c21c7e1-0a78-45a7-971b-610c16b9fe3a",
   "metadata": {},
   "outputs": [
    {
     "data": {
      "text/plain": [
       "Index(['PERMNO', 'date', 'SHRCD', 'SICCD', 'TICKER', 'SHRCLS', 'NAICS',\n",
       "       'PRIMEXCH', 'CUSIP', 'NSDINX', 'BIDLO', 'ASKHI', 'PRC', 'VOL', 'RET',\n",
       "       'BID', 'ASK', 'SHROUT', 'OPENPRC', 'NUMTRD', 'RETX', 'vwretd', 'vwretx',\n",
       "       'ewretd', 'ewretx', 'sprtrn'],\n",
       "      dtype='object')"
      ]
     },
     "execution_count": 2,
     "metadata": {},
     "output_type": "execute_result"
    }
   ],
   "source": [
    "data = pd.read_pickle('CRSP.pickle')\n",
    "data.columns"
   ]
  },
  {
   "cell_type": "markdown",
   "id": "5c56dcd4-233a-4ecc-8de4-23800d1605fd",
   "metadata": {
    "tags": []
   },
   "source": [
    "# CHMOM: Cumulative return from t-6 to t-1 minus t-12 to t-7\n",
    "Gettleman & Marks 2006, WP"
   ]
  },
  {
   "cell_type": "code",
   "execution_count": 3,
   "id": "8c7bbd5a-72c2-4cc4-92a0-4aa42ceb2de7",
   "metadata": {},
   "outputs": [],
   "source": [
    "def chmom():\n",
    "    # Input Data\n",
    "    df = data[['date', 'PERMNO', 'RET']].copy()\n",
    "\n",
    "    df['date'] = pd.to_datetime(df['date'])\n",
    "    df['year_month'] = df['date'].dt.to_period('M')\n",
    "\n",
    "    df['RET'] = pd.to_numeric(df['RET'], errors='coerce')\n",
    "    df.dropna(subset=['RET'], inplace=True)\n",
    "\n",
    "    df = df.sort_values(by=['PERMNO', 'year_month'])\n",
    "    \n",
    "    # 使用log return加總，計算每個月報酬\n",
    "    df['log_ret'] = np.log(df['RET']+1)\n",
    "\n",
    "    month_ret = df.groupby(['PERMNO', 'year_month'])['log_ret'].sum().rename('month_log_ret').reset_index()\n",
    "    \n",
    "    #Rolling 6 month 計算累積六過月報酬率\n",
    "    month_ret['rolling_6m_ret'] = month_ret.groupby('PERMNO')['month_log_ret']\\\n",
    "                                           .rolling(window=6).sum().reset_index(level=0, drop=True)\n",
    "    \n",
    "    # 將報酬率平移至對應的月份、還原為累積報酬率\n",
    "    month_ret['t-6~t-1'] = np.exp(month_ret.groupby('PERMNO')['rolling_6m_ret'].shift(1))-1\n",
    "    month_ret['t-12~t-7'] = np.exp(month_ret.groupby('PERMNO')['rolling_6m_ret'].shift(7))-1\n",
    "    \n",
    "    month_ret['chmom'] = month_ret['t-6~t-1']-month_ret['t-12~t-7']\n",
    "    \n",
    "    return month_ret[['PERMNO', 'year_month', 'chmom']].dropna().reset_index(drop = True)\n",
    "\n",
    "chmom = chmom()\n",
    "chmom.to_pickle('chmom.pickle')"
   ]
  },
  {
   "cell_type": "markdown",
   "id": "40baa9b2-85a3-41e4-af4d-d80ee2ecd1eb",
   "metadata": {
    "tags": []
   },
   "source": [
    "# MAXRET: 前月單日最大報酬率\n",
    "Bali, Cakici & Whitelaw, 2011. JFE"
   ]
  },
  {
   "cell_type": "code",
   "execution_count": 4,
   "id": "0f75f81d-9481-4256-b07f-e2f55b88cec4",
   "metadata": {},
   "outputs": [],
   "source": [
    "def maxret():\n",
    "    # Input Data\n",
    "    df = data[['date', 'PERMNO', 'RET']].copy()\n",
    "\n",
    "    df['date'] = pd.to_datetime(df['date'])\n",
    "    df['year_month'] = df['date'].dt.to_period('M')\n",
    "\n",
    "    df['RET'] = pd.to_numeric(df['RET'], errors='coerce')\n",
    "    df.dropna(subset=['RET'], inplace=True)\n",
    "\n",
    "    df = df.sort_values(by=['PERMNO', 'year_month'])\n",
    "    \n",
    "    # 前月單日最大報酬率\n",
    "    maxret = pd.DataFrame(df.groupby(['PERMNO', 'year_month'])['RET'].agg('max').rename('maxret')).reset_index()\n",
    "    maxret['year_month']+=1\n",
    "    \n",
    "    return maxret.dropna()\n",
    "\n",
    "maxret = maxret()\n",
    "maxret.to_pickle('maxret.pickle')"
   ]
  },
  {
   "cell_type": "markdown",
   "id": "006dd89b-3ff5-4ebb-8bc3-dc8dbcac0880",
   "metadata": {
    "tags": []
   },
   "source": [
    "# MOM12M: 12個月累積報酬\n",
    "Jagadeesh, 1990, JF\n",
    "\n",
    "# MOM1M: 前月累積報酬\n",
    "Jagadeesh, Titman, 1993, JF"
   ]
  },
  {
   "cell_type": "code",
   "execution_count": 5,
   "id": "b466d124-f042-4cba-8328-3c58b38317b0",
   "metadata": {},
   "outputs": [],
   "source": [
    "def mom():\n",
    "    df = data[['date', 'PERMNO', 'RET']].copy()\n",
    "\n",
    "    df['date'] = pd.to_datetime(df['date'])\n",
    "    df['year_month'] = df['date'].dt.to_period('M')\n",
    "\n",
    "    df['RET'] = pd.to_numeric(df['RET'], errors='coerce')\n",
    "    df.dropna(subset=['RET'], inplace=True)\n",
    "\n",
    "    df = df.sort_values(by=['PERMNO', 'year_month'])\n",
    "    df['log_ret'] = np.log(df['RET']+1)\n",
    "\n",
    "    month_ret = df.groupby(['PERMNO', 'year_month'])['log_ret'].sum().rename('month_log_ret').reset_index()\n",
    "    month_ret['rolling_12m_ret'] = month_ret.groupby('PERMNO')['month_log_ret'].rolling(window=12).sum().reset_index(level=0, drop=True)\n",
    "\n",
    "    month_ret['mom1m'] = np.exp(month_ret.groupby('PERMNO')['month_log_ret'].shift(1))-1\n",
    "    month_ret['mom12m'] = np.exp(month_ret.groupby('PERMNO')['rolling_12m_ret'].shift(1))-1\n",
    "\n",
    "    return month_ret[['PERMNO', 'year_month', 'mom1m', 'mom12m']].dropna().reset_index(drop = True)\n",
    "\n",
    "mom = mom()\n",
    "mom.to_pickle('momentum.pickle')"
   ]
  },
  {
   "cell_type": "markdown",
   "id": "cbe439c9-10e7-4fc3-a764-7f45ff7f9da5",
   "metadata": {
    "tags": []
   },
   "source": [
    "# Idiovol: \n",
    "**regress daily returns on a value-weighted market index over a one-year period immediately preceding the holding period and compute the variance of the residual term.**\n",
    "\n",
    "Ali, Hwang & Trombley, 2003, JFE"
   ]
  },
  {
   "cell_type": "code",
   "execution_count": 7,
   "id": "1d38c4b1-74be-4e5c-a56b-85eca92cbe9c",
   "metadata": {},
   "outputs": [],
   "source": [
    "# 1. 輸入資料、整理\n",
    "\n",
    "df = data[['date', 'PERMNO', 'RET', 'vwretd']].copy()\n",
    "\n",
    "df['date'] = pd.to_datetime(df['date'])\n",
    "df['year_month'] = df['date'].dt.to_period('M')\n",
    "\n",
    "df['RET'] = pd.to_numeric(df['RET'], errors='coerce')\n",
    "df['vwretd'] = pd.to_numeric(df['vwretd'], errors='coerce')\n",
    "\n",
    "df.dropna(subset=['RET', 'vwretd'], inplace=True)\n",
    "\n",
    "df = df.sort_values(by=['PERMNO', 'year_month'])\n",
    "\n",
    "# Regression 取得 MSE\n",
    "# 此處使用平行運算加速\n",
    "import statsmodels.api as sm\n",
    "\n",
    "def calculate_mse(dfc, year_month):\n",
    "    end_date = year_month.to_timestamp()\n",
    "    start_date = end_date - pd.DateOffset(months=12)\n",
    "    \n",
    "    try:\n",
    "        data = dfc.loc[(dfc['date'] >= start_date) & (dfc['date'] < end_date)]\n",
    "        X = data['vwretd']\n",
    "        Y = data['RET']\n",
    "        X = sm.add_constant(X)\n",
    "        model = sm.OLS(Y, X).fit()\n",
    "        mse = model.mse_resid\n",
    "        return mse\n",
    "    \n",
    "    except Exception:\n",
    "        return np.nan\n",
    "\n",
    "def process_task(dfc):\n",
    "    result = []\n",
    "    for PERMNO in dfc['PERMNO'].unique():\n",
    "        df_PERMNO = dfc[dfc['PERMNO'] == PERMNO]\n",
    "        for year_month in df_PERMNO['year_month'].unique():\n",
    "            mse = calculate_mse(df_PERMNO, year_month)\n",
    "            result.append({'year_month': year_month, 'PERMNO': PERMNO, 'MSE': mse})\n",
    "    return result\n",
    "\n",
    "def create_tasks(df):\n",
    "    unique_PERMNOs = df['PERMNO'].unique()\n",
    "    PERMNO_chunks = [unique_PERMNOs[i:i + 2013] for i in range(0, len(unique_PERMNOs), 2013)]\n",
    "    tasks = [df[df['PERMNO'].isin(chunk)] for chunk in PERMNO_chunks]\n",
    "    return tasks\n",
    "\n",
    "from pathos.multiprocessing import ProcessingPool as Pool\n",
    "\n",
    "def main(df):\n",
    "    tasks = create_tasks(df)\n",
    "    pool = Pool(processes=8)  # Adjust number of processes based on your machine\n",
    "    results = pool.map(process_task, tasks)\n",
    "    pool.close()\n",
    "    pool.join()\n",
    "    return results\n",
    "\n",
    "def combine_results(results):\n",
    "    flat_results = [item for sublist in results for item in sublist]\n",
    "    result_df = pd.DataFrame(flat_results)\n",
    "    return result_df\n",
    "\n",
    "\n",
    "all_results = main(df)\n",
    "result_df = combine_results(all_results)\n",
    "\n",
    "#整理計算結果、儲存\n",
    "result_df_modified = result_df.groupby('PERMNO').apply(lambda x: x.iloc[12:] if len(x) > 12 else pd.DataFrame()).reset_index(drop=True)\n",
    "result_df_modified.rename(columns = {'MSE':'Idiovol'}, inplace = True)\n",
    "result_df_modified.to_pickle('idiovol.pickle')"
   ]
  },
  {
   "cell_type": "markdown",
   "id": "6c06a12f-fedc-428b-bd09-ab75c8705245",
   "metadata": {
    "tags": []
   },
   "source": [
    "# dolvol: 兩個月交易量（$ not #），取自然對數\n",
    "Chrodia, Subrahmanyam & Anshuman, 2001, JFE"
   ]
  },
  {
   "cell_type": "code",
   "execution_count": 8,
   "id": "b8a18f45-c20c-4480-90fa-cc47cc71493e",
   "metadata": {},
   "outputs": [],
   "source": [
    "def dolvol():\n",
    "    df = data[['date', 'PERMNO', 'VOL', 'PRC']].copy()\n",
    "\n",
    "    df['date'] = pd.to_datetime(df['date'])\n",
    "    df['year_month'] = df['date'].dt.to_period('M')\n",
    "\n",
    "    df['VOL'] = pd.to_numeric(df['VOL'], errors='coerce')\n",
    "    df['PRC'] = pd.to_numeric(np.abs(df['PRC']), errors='coerce')\n",
    "\n",
    "    df.dropna(subset=['VOL', 'PRC'], inplace=True)\n",
    "    \n",
    "    df = df.sort_values(by=['PERMNO', 'year_month'])\n",
    "    df['$VOL'] = df['VOL']*df['PRC']\n",
    "    \n",
    "    month_vol = df.groupby(['PERMNO', 'year_month'])['$VOL'].sum().rename('month_trading_volume').reset_index()\n",
    "    month_vol['rolling_2m_volume'] = month_vol.groupby('PERMNO')['month_trading_volume'].rolling(window=2).sum().reset_index(level=0, drop=True)\n",
    "    month_vol['year_month']+=1\n",
    "    \n",
    "    return month_vol[['PERMNO', 'year_month', 'dolvol']].dropna().reset_index(drop = True)\n",
    "\n",
    "dolvol = dolvol()\n",
    "dolvol.to_pickle('dolvol.pickle')"
   ]
  },
  {
   "cell_type": "markdown",
   "id": "a65079d8-2f89-4538-b848-4cbd676f4fe5",
   "metadata": {
    "tags": []
   },
   "source": [
    "# retvol: Total return volatility"
   ]
  },
  {
   "cell_type": "code",
   "execution_count": 9,
   "id": "b51e9c82-d955-46b4-89b2-462718e3dc51",
   "metadata": {},
   "outputs": [],
   "source": [
    "def retvol():\n",
    "    df = data[['date', 'PERMNO', 'RET']].copy()\n",
    "\n",
    "    df['date'] = pd.to_datetime(df['date'])\n",
    "    df['year_month'] = df['date'].dt.to_period('M')\n",
    "\n",
    "    df['RET'] = pd.to_numeric(df['RET'], errors='coerce')\n",
    "    df.dropna(subset=['RET'], inplace=True)\n",
    "\n",
    "    df = df.sort_values(by=['PERMNO', 'year_month'])\n",
    "\n",
    "    month_vol = pd.DataFrame(df.groupby(['PERMNO', 'year_month'])['RET'].agg('std').rename('month_vol')).reset_index()\n",
    "    month_vol['year_month']+=1\n",
    "    \n",
    "    return month_vol[['PERMNO', 'year_month', 'retvol']].dropna().reset_index(drop = True)\n",
    "\n",
    "retvol = retvol()\n",
    "retvol.to_pickle('retvol.pickle')"
   ]
  },
  {
   "cell_type": "markdown",
   "id": "ac49c837-ac1c-4973-90c7-fa38645d4a67",
   "metadata": {
    "tags": []
   },
   "source": [
    "# indmom: industry momentum\n",
    "Moskowitz & Grinblatt, 1999, JF"
   ]
  },
  {
   "cell_type": "code",
   "execution_count": 10,
   "id": "b2bf2566-fb42-4425-96af-9a008e6a5239",
   "metadata": {},
   "outputs": [],
   "source": [
    "def indmom():\n",
    "    # 1. Input Data\n",
    "    df = data[['date', 'PERMNO', 'SICCD', 'RET', 'PRC', 'SHROUT']].copy()\n",
    "\n",
    "    df['date'] = pd.to_datetime(df['date'])\n",
    "    df['year_month'] = df['date'].dt.to_period('M')\n",
    "\n",
    "    df['RET'] = pd.to_numeric(df['RET'], errors='coerce')\n",
    "    df['PRC'] = pd.to_numeric(np.abs(df['PRC']), errors='coerce')\n",
    "    df['SHROUT'] = pd.to_numeric(np.abs(df['SHROUT']), errors='coerce')\n",
    "    df['SICCD'] = pd.to_numeric(df['SICCD'], errors='coerce')\n",
    "    df.dropna(subset=['RET', 'PRC', 'SHROUT', 'SICCD'], inplace=True)\n",
    "\n",
    "    df = df.sort_values(by=['PERMNO', 'year_month'])\n",
    "    \n",
    "    # 2. 計算個股每月報酬\n",
    "    df['log_ret'] = np.log(df['RET']+1)\n",
    "    df['stock_month_ret'] = np.exp(df.groupby(['PERMNO', 'year_month'])['log_ret'].transform('sum'))-1\n",
    "    \n",
    "    # 3. 計算個股市值\n",
    "    df['market_value'] = df['PRC']*df['SHROUT']\n",
    "    df['monthly_market_value'] = df.groupby(['PERMNO', 'year_month'])['market_value'].transform('mean')\n",
    "    \n",
    "    df = df[['year_month', 'PERMNO', 'SICCD', 'stock_month_ret', 'monthly_market_value']]\n",
    "    df = df.drop_duplicates(subset = ['year_month', 'PERMNO'])\n",
    "    \n",
    "    # 4. 用 SICCD 開頭兩碼進行產業分類\n",
    "    industry_mapping = {\n",
    "    range(10, 15): 'Mining', #10~14\n",
    "    range(20, 21): 'Food', #20\n",
    "    range(22, 24): 'Apparel', #22~23\n",
    "    range(26, 27): 'Paper', #26\n",
    "    range(28, 29): 'Chemical', #28\n",
    "    range(29, 30): 'Petroleum', #29\n",
    "    range(32, 33): 'Construction', #32\n",
    "    range(33, 34): 'Prim. Metals', #33\n",
    "    range(34, 35): 'Fab. Metals', #34\n",
    "    range(35, 36): 'Machinery', #35\n",
    "    range(36, 37): 'Electrical Eq.', #36\n",
    "    range(37, 38): 'Transport Eq.', #37\n",
    "    range(38, 40): 'Manufacturing', #38~39\n",
    "    range(40, 41): 'Railroads', #40\n",
    "    range(41, 48): 'Other Transport.', #41~47\n",
    "    range(49, 50): 'Utilities', #49\n",
    "    range(50, 53): 'Retail',  #50~52\n",
    "    range(53, 54): 'Dept. Stores', #53\n",
    "    range(54, 60): 'Retail',  #54~59\n",
    "    range(60, 70): 'Financial', #60~69\n",
    "    }\n",
    "\n",
    "    def map_industry(sic_code):\n",
    "        sic_prefix = int(str(sic_code)[:2])\n",
    "        for key in industry_mapping:\n",
    "            if sic_prefix in key:\n",
    "                return industry_mapping[key]\n",
    "        return 'Other'\n",
    "\n",
    "    df['industry'] = df['SICCD'].apply(map_industry)\n",
    "    \n",
    "    # 5. 計算產業 Value Weighted Return\n",
    "    ind_ret = df.groupby(['year_month', 'industry']) \\\n",
    "            .apply(lambda x: np.average(x['stock_month_ret'], weights = x['monthly_market_value'])) \\\n",
    "            .rename('industry_return').reset_index()\n",
    "\n",
    "    merged = pd.merge(ind_ret, df, on = ['year_month', 'industry'])\n",
    "    merged['year_month']+=1\n",
    "    \n",
    "    return merged[['PERMNO', 'SICCD', 'year_month', 'industry', 'indmom']].dropna().reset_index(drop = True)\n",
    "\n",
    "indmom = indmom()\n",
    "indmom.to_pickle('indmom.pickle')"
   ]
  },
  {
   "cell_type": "markdown",
   "id": "da660b99-ebf1-47e9-b319-5bd10645166c",
   "metadata": {},
   "source": [
    "# mvel1: size\n",
    "Banz, 1981, JFE"
   ]
  },
  {
   "cell_type": "code",
   "execution_count": 11,
   "id": "970941ef-0df3-4afd-83a0-725db88b8ebf",
   "metadata": {},
   "outputs": [],
   "source": [
    "def size():\n",
    "    # 1. Input Data\n",
    "    df = data[['date', 'PERMNO', 'PRC', 'SHROUT']].copy()\n",
    "\n",
    "    df['date'] = pd.to_datetime(df['date'])\n",
    "    df['year_month'] = df['date'].dt.to_period('M')\n",
    "\n",
    "    df['PRC'] = pd.to_numeric(np.abs(df['PRC']), errors='coerce')\n",
    "    df['SHROUT'] = pd.to_numeric(np.abs(df['SHROUT']), errors='coerce')\n",
    "    df.dropna(subset=['PRC', 'SHROUT'], inplace=True)\n",
    "\n",
    "    df = df.sort_values(by=['PERMNO', 'year_month'])\n",
    "    \n",
    "    # 2. 計算個股市值\n",
    "    df['market_value'] = df['PRC']*df['SHROUT']\n",
    "    size = pd.DataFrame(df.groupby(['PERMNO', 'year_month'])['market_value'].agg('mean').rename('stockmv')).reset_index()\n",
    "    \n",
    "    # 3. 個股市值/股市總市值\n",
    "    size['totalmv'] = size.groupby(['year_month'])['stockmv'].transform('sum')\n",
    "    size['mvel1'] = size['stockmv']/size['totalmv']\n",
    "    size['year_month']+=1\n",
    "    # size['mvel1'] = size.groupby('PERMNO')['size%'].shift(1)\n",
    "\n",
    "    return size[['PERMNO', 'year_month', 'mvel1', 'stockmv']].dropna().reset_index(drop = True)\n",
    "\n",
    "size = size()\n",
    "size.to_pickle('mvel1.pickle')"
   ]
  },
  {
   "cell_type": "code",
   "execution_count": null,
   "id": "882613c8",
   "metadata": {},
   "outputs": [],
   "source": []
  }
 ],
 "metadata": {
  "kernelspec": {
   "display_name": "Python 3 (ipykernel)",
   "language": "python",
   "name": "python3"
  },
  "language_info": {
   "codemirror_mode": {
    "name": "ipython",
    "version": 3
   },
   "file_extension": ".py",
   "mimetype": "text/x-python",
   "name": "python",
   "nbconvert_exporter": "python",
   "pygments_lexer": "ipython3",
   "version": "3.10.11"
  },
  "toc-autonumbering": true,
  "toc-showcode": false,
  "toc-showmarkdowntxt": false,
  "widgets": {
   "application/vnd.jupyter.widget-state+json": {
    "state": {},
    "version_major": 2,
    "version_minor": 0
   }
  }
 },
 "nbformat": 4,
 "nbformat_minor": 5
}
